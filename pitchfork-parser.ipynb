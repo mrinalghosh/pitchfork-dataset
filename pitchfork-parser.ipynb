{
  "nbformat": 4,
  "nbformat_minor": 0,
  "metadata": {
    "colab": {
      "name": "PitchforkBYOD.ipynb",
      "provenance": [],
      "collapsed_sections": []
    },
    "kernelspec": {
      "name": "python3",
      "display_name": "Python 3"
    }
  },
  "cells": [
    {
      "cell_type": "markdown",
      "metadata": {
        "id": "92qtUmfGVX_t"
      },
      "source": [
        "This is a web-scraping utility to fetch and process [Pitchfork](https://pitchfork.com/) reviews into a custom dataset. Created for use in NLP applications such as the chatbot demonstrated in this PyTorch [tutorial](https://pytorch.org/tutorials/beginner/chatbot_tutorial.html). Credit to Rishav Agarwal's [article](https://towardsdatascience.com/byod-build-your-own-dataset-for-free-67133840dc85) for helpful tips on website parsing."
      ]
    },
    {
      "cell_type": "code",
      "metadata": {
        "id": "S-siFYmkVR4r"
      },
      "source": [
        "import requests\r\n",
        "from bs4 import BeautifulSoup\r\n",
        "import os\r\n",
        "# import csv\r\n",
        "# import pandas as pd"
      ],
      "execution_count": 12,
      "outputs": []
    },
    {
      "cell_type": "code",
      "metadata": {
        "id": "09tnFgrKW1y8"
      },
      "source": [
        "'''\r\n",
        "Data needed: url, album, artist, score, text, reviewer\r\n",
        "\r\n",
        "Parse sitemap generated via https://www.xml-sitemaps.com/ on root https://pitchfork.com/reviews/albums/\r\n",
        "'''\r\n",
        "\r\n",
        "def review_fetch(url):\r\n",
        "    review = {}\r\n",
        "    \r\n",
        "    page = requests.get(url)\r\n",
        "    soup = BeautifulSoup(page.text, 'html5lib')\r\n",
        "    \r\n",
        "    review['url'] = url\r\n",
        "    review['genre'] = [x.find(text=True) for x in soup.find_all('a', attrs={'genre-list__link'})]\r\n",
        "    review['author'] = soup.find('a', attrs={'authors-detail__display-name'}).find(text=True)\r\n",
        "    review['score'] = float(soup.find('span', attrs={'score'}).find(text=True))\r\n",
        "    review['content'] = ' '.join([x.find(text=True) for x in soup.find_all('p')])\r\n",
        "    artist, album = (''.join(soup.find('title').find(text=True))).split(' Album ')[0].split(':')\r\n",
        "    review['artist'] = artist.strip(' ')\r\n",
        "    review['album'] = album.strip(' ')\r\n",
        "\r\n",
        "    return review\r\n",
        "\r\n",
        "\r\n",
        "sitemap = 'sitemap.xml'\r\n",
        "\r\n",
        "with open(sitemap, 'r') as file:\r\n",
        "    content = file.readlines()\r\n",
        "    content = ''.join(content)\r\n",
        "    soup = BeautifulSoup(content, 'lxml')\r\n",
        "\r\n",
        "    urls = []\r\n",
        "    for url in soup.find_all('loc'):\r\n",
        "        urls.append(''.join(url.find_all(text=True)))\r\n",
        "    \r\n",
        "    urls.pop() # remove root itself"
      ],
      "execution_count": 142,
      "outputs": []
    },
    {
      "cell_type": "code",
      "metadata": {
        "colab": {
          "base_uri": "https://localhost:8080/"
        },
        "id": "h1kkqFiTY6s9",
        "outputId": "853c3afa-6990-4f85-b37c-57824781ef8d"
      },
      "source": [
        "# url = 'https://pitchfork.com/reviews/albums/the-postal-service-everything-will-change/'\r\n",
        "\r\n",
        "# page = requests.get(url)\r\n",
        "# soup = BeautifulSoup(page.text, 'html5lib')\r\n",
        "\r\n",
        "# # print(soup.prettify())\r\n",
        "\r\n",
        "# score = float(soup.find('span', attrs={'score'}).find(text=True))\r\n",
        "# text = ' '.join([p.find(text=True) for p in soup.find_all('p')])\r\n",
        "\r\n",
        "# artist, album = (''.join(soup.find('title').find(text=True))).split(' Album ')[0].split(':')\r\n",
        "# artist, album = artist.strip(' '), album.strip(' ')\r\n",
        "\r\n",
        "# genre = [gen.find(text=True) for gen in soup.find_all('a', attrs={'genre-list__link'})]\r\n",
        "# author = soup.find('a', attrs={'authors-detail__display-name'}).find(text=True)\r\n",
        "\r\n",
        "# print(album)\r\n",
        "# print(artist)\r\n",
        "# print(score)\r\n",
        "# print(text)\r\n",
        "# print(genre)\r\n",
        "# print(author)\r\n",
        "\r\n",
        "url = 'https://pitchfork.com/reviews/albums/the-postal-service-everything-will-change/'\r\n",
        "\r\n",
        "review = review_fetch(url)\r\n",
        "\r\n",
        "print(review)"
      ],
      "execution_count": 144,
      "outputs": [
        {
          "output_type": "stream",
          "text": [
            "{'url': 'https://pitchfork.com/reviews/albums/the-postal-service-everything-will-change/', 'genre': ['Electronic', 'Rock'], 'author': 'Marc Hogan', 'score': 7.8, 'content': 'On this live album, based from a 2014 concert film, you can hear the Postal Service transform from an idea to a band. They might  When Sub Pop  Everything Will Change The Postal Service’s most joyful song, “Such Great Heights,” is in a sense about the impossibility of capturing the moment, and then trying through technology to defy those limits. Gibbard attempts “to leave this all on your machine” and ends up being unsatisfied with the low fidelity; at the same time, computer wizardry allows Gibbard to sing the song’s breathlessly overlapping verses without pausing for air. Live shows, like live albums, also rely on technical sleight-of-hand, but the presumed presence of an audience, gathered in real time, is transformative. When the Postal Service do “Such Great Heights” on  What  These accomplished performances give new life to recordings that for so long lived mainly in headphones. Melancholy, uptempo songs like “The District Sleeps Alone” or “Clark Gable”—the latter is the one where Gibbard unforgettably sings that he wants “life in every word/To the extent that it’s absurd”—grow into noise-streaked dance parties, as if fellow sentimental robots  A clever setlist helps. The lone cover, a masterful Postal Service-ization of  Everything Will Change Catch up every Saturday with 10 of our best-reviewed albums of the week. Sign up for the 10 to Hear newsletter', 'artist': 'The Postal Service', 'album': 'Everything Will Change'}\n"
          ],
          "name": "stdout"
        }
      ]
    },
    {
      "cell_type": "code",
      "metadata": {
        "id": "7HgLoirwY8C4"
      },
      "source": [
        ""
      ],
      "execution_count": null,
      "outputs": []
    }
  ]
}